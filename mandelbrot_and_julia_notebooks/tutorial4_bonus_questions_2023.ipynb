{
 "cells": [
  {
   "cell_type": "markdown",
   "metadata": {},
   "source": [
    "<div class=\"alert alert-warning\">\n",
    "    \n",
    "# Tutorial 4 Bonus Questions\n",
    "\n",
    "## For enthusiasts\n",
    "\n",
    "The material below is entirely optional $-$ it is not core material for the course and you do not need to study it. \n",
    "    \n",
    "(But you might find it useful in any future re-reading of the course.)\n",
    "</div>"
   ]
  },
  {
   "cell_type": "code",
   "execution_count": null,
   "metadata": {},
   "outputs": [],
   "source": [
    "# Run this cell first... \n",
    "import numpy as np \n",
    "import matplotlib.pyplot as plt"
   ]
  },
  {
   "cell_type": "markdown",
   "metadata": {},
   "source": [
    "## Preamble 1: the Mandelbrot Map.\n",
    "\n",
    "In part 2 of Question 2 of the Tutorial 4 you were given the global variable... "
   ]
  },
  {
   "cell_type": "code",
   "execution_count": null,
   "metadata": {},
   "outputs": [],
   "source": [
    "MAXITER = 100"
   ]
  },
  {
   "cell_type": "markdown",
   "metadata": {},
   "source": [
    "and you were set the task of writing a function `mandel` with input parameter `c` which, supposing that that $(z_n)_{n \\ge 0}$ denotes the Mandelbrot sequence induced by `c`, should return the least $n < $ `MAXITER` such that   $|z_n| > 2$  if such an $n$ exists. Otherwise this function should return the number `MAXITER`.  \n",
    "\n",
    "Make sure that you have completed this task below by replacing \n",
    "```python \n",
    "# YOUR CODE HERE\n",
    "``` \n",
    "below by your code. "
   ]
  },
  {
   "cell_type": "code",
   "execution_count": null,
   "metadata": {},
   "outputs": [],
   "source": [
    "def mandel(c):\n",
    "    # Global variable used: MAXITER\n",
    "    # YOUR CODE HERE"
   ]
  },
  {
   "cell_type": "code",
   "execution_count": null,
   "metadata": {},
   "outputs": [],
   "source": [
    "# Test your function here. For example, which of the following two complex numbers\n",
    "# belong to the Mandelbrot set. \n",
    "c1 = 0.366 + 0.1j \n",
    "c2 = 0.367 + 0.1j\n",
    "print(mandel(c1))\n",
    "print(mandel(c2))\n",
    "# Further tests here... "
   ]
  },
  {
   "cell_type": "markdown",
   "metadata": {},
   "source": [
    "## Preamble 2:  a function to create the Mandelbrot set\n",
    "\n",
    "You were also asked  (in Part 4 of Question 2) to design a function `make_mandelbrot_data` which has six input parameters. Its definition is of the form\n",
    "```python\n",
    "def make_mandelbrot_data(xmin,xmax,num_xpts,ymin,ymax,num_ypts)\n",
    "    # Body of the function\n",
    "```\n",
    "and it returns the  3-tuple (`x_matrix`, `y_matrix`, `n_matrix`) which represents the data that we use for plotting. \n",
    "\n",
    "Your task was to fill in the code  in the space below the line \n",
    "```python\n",
    "# YOUR CODE HERE\n",
    "```\n",
    "in the cell given, which is reproduced below. Make sure that you have completed this task. "
   ]
  },
  {
   "cell_type": "code",
   "execution_count": null,
   "metadata": {
    "scrolled": true
   },
   "outputs": [],
   "source": [
    "def make_mandelbrot_data(xmin,xmax,num_xpts,ymin,ymax,num_ypts):\n",
    "    # Global variable used (inside the call to mandel): MAXITER\n",
    "    # First construct  x and y vectors, this time using the \n",
    "    # function linspace. E.g. np.linspace(xmin,xmax,num_xpts) returns\n",
    "    # a numpy array of num_xpts many equally spaced real numbers in \n",
    "    # the interval [xmin,xmax] starting with xmin and ending with xmax\n",
    "    x_vector = np.linspace(xmin,xmax,num_xpts)\n",
    "    y_vector = np.linspace(ymin,ymax,num_ypts)\n",
    "\n",
    "    # We transform  x_vector and y_vector into matrices that together represent a grid of coordinates\n",
    "    # (See \"Generating a 2 dimensional coordinate grid\" in Lecture 4_2 for explanation)\n",
    "    x_matrix, y_matrix = np.meshgrid(x_vector,y_vector)\n",
    "\n",
    "    # We create a zero matrix \"n_matrix\" of the same dimensions as x_matrix and y_matrix  \n",
    "    rows, cols = np.shape(x_matrix)\n",
    "    n_matrix = np.zeros((rows,cols), dtype=int) # Neat using dtype=int, but no need for this\n",
    "    \n",
    "    # OVER TO YOU: YOUR CODE MUST POPULATE n_matrix WITH THE APPROPRIATE VALUES \n",
    "    # AS SPECIFIED IN THE BULLET POINT ABOVE \n",
    "    # YOUR CODE HERE\n",
    "\n",
    "    \n",
    "    \n",
    "    # YOUR CODE SHOULD END HERE (YOU ONLY NEED 3 LINES)\n",
    "    return x_matrix, y_matrix, n_matrix"
   ]
  },
  {
   "cell_type": "code",
   "execution_count": null,
   "metadata": {
    "scrolled": false
   },
   "outputs": [],
   "source": [
    "# YOU CAN TEST YOUR FUNCTION HERE\n",
    "NUM_POINTS = 11\n",
    "make_mandelbrot_data(-1,1,NUM_POINTS,-1.,1.,NUM_POINTS)\n",
    "# More of your tests here... "
   ]
  },
  {
   "cell_type": "code",
   "execution_count": null,
   "metadata": {
    "scrolled": false
   },
   "outputs": [],
   "source": [
    "# ANOTHER TEST ADDED FOR ILLUSTRATION. WE HAVE ZOOMED INTO A \"BORDER\" REGION OF THE MANDELBROT SET\n",
    "# REMEMBER THAT IN THE THIRD ARRAY (n_matrix) 100 (= MAXITER) MEANS THAT THE COMPLEX POINT (WHOSE COORDINATES \n",
    "# ARE THE CORRESPONDING COMPONENTS IN THE TWO PRECEDING ARRAYS) IS IN THE MANDELBROT SET, \n",
    "# ANY OTHER (LOWER) VALUE MEANS THAT IT IS NOT IN THE SET\n",
    "NUM_POINTS = 5\n",
    "x_matrix, y_matrix, n_matrix = make_mandelbrot_data(0.36,0.37,NUM_POINTS,0.1, 0.11,NUM_POINTS)\n",
    "print(x_matrix,\"\\n\")\n",
    "print(y_matrix,\"\\n\")\n",
    "print(n_matrix,\"\\n\")"
   ]
  },
  {
   "cell_type": "markdown",
   "metadata": {},
   "source": [
    "## Bonus Question  1:  zooming in to the Mandelbrot set\n",
    "\n",
    "In Part 5 of Question 2 you plotted the Mandelbrot set. Proceeding in a similar way you should now \n",
    "choose a region of the screen containing part of the boundary of the Mandelbrot set. (The set is in white if you are using the 'gist_ncar' colour map.) Zoom into that region: i.e. repeat the plotting from Part 5 of Question 2 of Tutorial 4 on that region. Now choose a region of this plot and zoom in on that. (Do this altogether 2 or 3 times). Note that you will not only need to adjust the limit coordinates to your region each time but also the $x$ and $y$ coordinate spacings (to smaller). Also save high resolution images of your plots. (Also play about with the colour maps to find one that you like.) "
   ]
  },
  {
   "cell_type": "code",
   "execution_count": null,
   "metadata": {
    "scrolled": true
   },
   "outputs": [],
   "source": [
    "# YOUR CODE HERE"
   ]
  },
  {
   "cell_type": "code",
   "execution_count": null,
   "metadata": {},
   "outputs": [],
   "source": [
    "# YOUR CODE HERE"
   ]
  },
  {
   "cell_type": "code",
   "execution_count": null,
   "metadata": {
    "scrolled": false
   },
   "outputs": [],
   "source": [
    "# YOUR CODE HERE"
   ]
  },
  {
   "cell_type": "markdown",
   "metadata": {},
   "source": [
    "## Bonus Question 2 : csv files for the Mandelbrot set\n",
    "\n",
    "We want to save the data that we used in Part 5 of Question 2 of Tutorial 4 (or in the examples above) into three csv files (one for each of the matrices/arrays output by `make_mandelbrot_data`). We will also want to be able to recreate the Mandelbrot plot directly from these three files. We begin by defining functions that save matrices to csv files using the pandas library as also functions that, given such a csv file, recreates the numpy array/matrix that it encodes. \n",
    "\n",
    "**Note.** We need to import pandas. We also import the function `peek_at_file` (seen in Bonus Lecture 4.3) from\n",
    "the module `week4_useful_functions`. For this you will need to make sure that the file `week4_useful_functions.py` \n",
    "is in your current working folder (where this notebook is). We also define a randomly generated $6 \\times 8$ matrix \n",
    "for testing purposes. \n"
   ]
  },
  {
   "cell_type": "code",
   "execution_count": null,
   "metadata": {},
   "outputs": [],
   "source": [
    "import pandas \n",
    "from week4_useful_functions import peek_at_file\n",
    "\n",
    "# Neat way of creating a matrix of random integers seen by python as floats. \n",
    "r_matrix = np.random.randint(1,30,size=(6,8)) * 1.0\n",
    "print(r_matrix)"
   ]
  },
  {
   "cell_type": "markdown",
   "metadata": {},
   "source": [
    "### Part 1\n",
    "\n",
    "Write a function `matrix_to_csv` that takes as input a numpy matrix `data_matrix`(i.e. a 2 dimensional numpy array), and a string `file_name` and creates a DataFrame object `matrix_df` (say) whose columns are the columns of `data_matrix` (in terms of content). The column names of `matrix_df` should be the indices of the columns of `data_matrix` converted to strings (so `matrix_df.columns` should be of the form `['0','1','2', ...]`).   Your function should then write `matrix_df` to a csv file whose name is the string `file_name`. This csv file should use the default `,` as separator. It's first line should contain the column names. You can achieve this by using the DataFrame method `to_csv` as seen in Bonus Lecture 4.3.   "
   ]
  },
  {
   "cell_type": "code",
   "execution_count": null,
   "metadata": {},
   "outputs": [],
   "source": [
    "def matrix_to_csv(data_matrix,file_name):\n",
    "    # YOUR CODE HERE"
   ]
  },
  {
   "cell_type": "code",
   "execution_count": null,
   "metadata": {},
   "outputs": [],
   "source": [
    "# Test your function here with r_matrix as input\n",
    "matrix_to_csv(r_matrix,'r_data.csv')"
   ]
  },
  {
   "cell_type": "code",
   "execution_count": null,
   "metadata": {
    "scrolled": true
   },
   "outputs": [],
   "source": [
    "# Using peek_at_file check that your csv file looks \n",
    "peek_at_file('r_data.csv')"
   ]
  },
  {
   "cell_type": "markdown",
   "metadata": {},
   "source": [
    "### Part 2\n",
    "\n",
    "Write a function `csv_to_matrix` that takes as input the name (as a string) of a csv file  of the form created in Part 1 - i.e. where the first row contains the column indices (as strings) of a matrix and the remaining data in the file consists of the data from the matrix. Your function should create a DataFrame object `matrix_df` (say) and  construct and return the matrix encoded in the csv file. \n"
   ]
  },
  {
   "cell_type": "code",
   "execution_count": null,
   "metadata": {},
   "outputs": [],
   "source": [
    "def csv_to_matrix(file_name):\n",
    "    # YOUR CODE HERE"
   ]
  },
  {
   "cell_type": "code",
   "execution_count": null,
   "metadata": {
    "scrolled": true
   },
   "outputs": [],
   "source": [
    "# Test your function here with your csv file from above as input\n",
    "csv_to_matrix('r_data.csv')"
   ]
  },
  {
   "cell_type": "markdown",
   "metadata": {},
   "source": [
    "### Part 3\n",
    "\n",
    "Rerun the function `make_mandelbrot_data` with inputs that you used in Part 5 of Question 2 of Tutorial 4 (or in one of the examples above). You should write each of the three matrices returned by your function to appropriately named csv files using your function `matrix_to_csv`. "
   ]
  },
  {
   "cell_type": "code",
   "execution_count": null,
   "metadata": {},
   "outputs": [],
   "source": [
    "# YOUR CODE HERE "
   ]
  },
  {
   "cell_type": "code",
   "execution_count": null,
   "metadata": {
    "scrolled": false
   },
   "outputs": [],
   "source": [
    "# Use peek_at_file to inspect your csv files (uncomment the line below to do this)\n",
    "#peek_at_file('mandel_n.csv')\n",
    "\n",
    "# To see another file again while setting  the number or rows displayed \n",
    "# and seeing row numbers uncomment the lines below.\n",
    "#print('\\n')\n",
    "#peek_at_file('mandel_x.csv',5,True)"
   ]
  },
  {
   "cell_type": "markdown",
   "metadata": {},
   "source": [
    "### Part 4\n",
    "\n",
    "Using your function `csv_to_matrix` reconstruct the matrices encoded in the csv files that you created in Part 3\n",
    "and, just as you did in Part 5 of Question 2 of Tutorial 4, plot the Mandelbrot set using these matrices. "
   ]
  },
  {
   "cell_type": "code",
   "execution_count": null,
   "metadata": {},
   "outputs": [],
   "source": [
    "# YOUR CODE HERE "
   ]
  }
 ],
 "metadata": {
  "kernelspec": {
   "display_name": "Python 3",
   "language": "python",
   "name": "python3"
  },
  "language_info": {
   "codemirror_mode": {
    "name": "ipython",
    "version": 3
   },
   "file_extension": ".py",
   "mimetype": "text/x-python",
   "name": "python",
   "nbconvert_exporter": "python",
   "pygments_lexer": "ipython3",
   "version": "3.7.3"
  }
 },
 "nbformat": 4,
 "nbformat_minor": 4
}
