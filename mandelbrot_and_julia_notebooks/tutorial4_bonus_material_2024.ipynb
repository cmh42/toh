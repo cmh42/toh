{
 "cells": [
  {
   "cell_type": "markdown",
   "id": "8b70b948",
   "metadata": {
    "deletable": false,
    "editable": false,
    "nbgrader": {
     "cell_type": "markdown",
     "checksum": "e9c7e2ee68e4fd2e186d9714201eb1b9",
     "grade": false,
     "grade_id": "cell-e9ce9f388ab54a32",
     "locked": true,
     "schema_version": 3,
     "solution": false,
     "task": false
    }
   },
   "source": [
    "# Tutorial 4 Bonus Material\n",
    "\n",
    "<div class=\"alert alert-warning\">\n",
    "\n",
    "**For enthusiasts - this material is entirely optional - you do not need to study it**\n",
    "    \n",
    "**(It will be useful however for Group Project 7 $-$ Recursive Animations and the Towers of Hanoi.)**  \n",
    "\n",
    "</div>\n",
    "\n",
    "\n",
    "## Bonus Mini Project: Constructing the Mandelbrot Set"
   ]
  },
  {
   "cell_type": "code",
   "execution_count": null,
   "id": "e93d1da2",
   "metadata": {},
   "outputs": [],
   "source": [
    "# RUN THIS CELL FIRST\n",
    "import numpy as np\n",
    "import matplotlib.pyplot as plt "
   ]
  },
  {
   "cell_type": "markdown",
   "id": "cc124d75",
   "metadata": {
    "deletable": false,
    "editable": false,
    "nbgrader": {
     "cell_type": "markdown",
     "checksum": "1c0d7ead8bd8da2e0f8a814d0b5fd066",
     "grade": false,
     "grade_id": "cell-d3f8f4bfcc95c813",
     "locked": true,
     "schema_version": 3,
     "solution": false,
     "task": false
    }
   },
   "source": [
    "The **Mandelbrot set** is the set of values $c$ in the complex plane such that the sequence $(z_n)_{n \\ge 0}$ defined by the recurrence relation \n",
    "\n",
    "$$\n",
    "z_0 = 0  \\quad \\text{and} \\quad z_n = z_{n-1}^2 + c, \\quad \\text{for } n = 1,2,3,\\dots\n",
    "$$\n",
    "\n",
    "is bounded. We say that $(z_n)_{n \\ge 0}$ is the  *Mandelbrot sequence induced by* $c$. (It would be more correct to write it as $(z^c_n)_{n \\ge 0}$ to explicitly show the dependence on $c$. However this would clutter our notation.) \n",
    "\n",
    "**Reminder 1.** $(z_n)_{n \\ge 0}$ being bounded means that, for some natural number (or positive real number) $N$, $|z_n| \\le N$ for all $n \\ge 0$. \n",
    "\n",
    "**Reminder 2.** For a complex number $z = a + bi$, the *conjugate* of $z$ is defined to be $\\overline{z} := a - bi$ and the *modulus* of $z$ is defined to be  \n",
    "\n",
    "$$\n",
    "|z| := \\sqrt{z \\cdot \\overline{z}} = \\sqrt{a^2 + b^2}\\, . \n",
    "$$\n",
    "\n",
    "Note that this means that, given complex number $c$ the sequence $(z_n)_{n \\ge 0}$ induced by $c$  starts as: \n",
    "$z_0 = 0$, $z_1 = c$, $z_2 = c^2 + c$, $z_3 = (c^2+c)^2 + c$, $z_4 = ((c^2+c)^2 + c)^2 + c$ etc. \n",
    "\n",
    "**Note.** It can be shown that, given $c$, the Mandelbrot sequence $(z_n)_{n \\ge 0}$ induced by $c$  diverges to infinity - i.e. is NOT bounded - precisely in the case when $|z_n| > 2$ for some $n$. Moreover, in general, when $(z_n)_{n \\ge 0}$ does diverge, we are able to find some small $n$ such  that $|z_n| > 2$.  Thus we can compute a good guess as to whether $c$ is in the Mandelbrot set or not by inspecting some fixed number of initial terms of the Mandelbrot sequence $(z_n)_{n \\ge 0}$ induced by $c$, whatever the value of $c$. Notice also  that if $|c| > 2$ then $|z_1| > 2$ and so the sequence $(z_n)_{n \\ge 0}$ induced by $c$ diverges.\n",
    "\n",
    "**Complex Numbers in python.** The complex number number $a + bi$ is represented as `a` $+$ `b*j` in python. I.e. in python the $\\sqrt{-1}$ is represented by `1j`. "
   ]
  },
  {
   "cell_type": "code",
   "execution_count": null,
   "id": "7cd4879e",
   "metadata": {},
   "outputs": [],
   "source": [
    "# Let's check this. \n",
    "print(\"Square root of -1 is\", (-1)**0.5)\n",
    "# A couple of examples \n",
    "z = 3 + 4j\n",
    "print(\"Example 1: z =\", z)\n",
    "print(\"Conjugate of z is\",z.conjugate())\n",
    "print(\"Real part of z is\",z.real)\n",
    "print(\"Imaginary part of z is\",z.imag)\n",
    "print(\"Modulus of z is \", abs(z))\n",
    "\n",
    "a, b = -2.1, 5.7\n",
    "u = a + 5.7*1j\n",
    "print(\"Example 2: u =\", u)"
   ]
  },
  {
   "cell_type": "code",
   "execution_count": null,
   "id": "b7d9809f",
   "metadata": {},
   "outputs": [],
   "source": [
    "# Aside: we also have ways of formatting complex numbers nicely for printing\n",
    "im_i = (-1)**0.5\n",
    "print(f\"Square root of -1 is {im_i.real:.2f} + {im_i.imag:.2f}i\")\n",
    "# Or as... \n",
    "print(\"Square root of -1 is {0.real:.2f} + {0.imag:.2f}i\".format(im_i))"
   ]
  },
  {
   "cell_type": "markdown",
   "id": "7e558832",
   "metadata": {
    "deletable": false,
    "editable": false,
    "nbgrader": {
     "cell_type": "markdown",
     "checksum": "bbb7284505e4c794830526cd2605d8fe",
     "grade": false,
     "grade_id": "cell-4848536b6dcf623d",
     "locked": true,
     "schema_version": 3,
     "solution": false,
     "task": false
    }
   },
   "source": [
    "### Part 1: a warm up - plotting Mandelbrot sequences \n",
    "\n",
    "For each of the complex numbers \n",
    "\n",
    "$$\n",
    "c_0 = 0.3 + 0.2i, \\quad c_1 = 0.39 + 0.16i, \\quad c_2 = 0.2555 + 0i\n",
    "$$\n",
    "\n",
    "compute the first $50$ terms of the Mandelbrot sequence $(z_n)_{n \\ge 0}$ induced by $c_k$ (for $k = 0,1,2$) and plot, in a single figure,  the values of the moduli $|z_0|,|z_1|, \\dots |z_{59}|$ for each of these three sequences.\n",
    "Use a logarithmic $y$ axis, and appropriate axis labels, a title and a legend. One of the complex numbers $c_0$, $c_1$, $c_2$ belongs to the Mandelbrot set. Which one? For each of the others you should visually estimate at which iterate number $n$ the induced sequences $(z_n)_{n \\ge 0}$  starts to diverge to infinity.\n",
    "\n",
    "To make your life easier we have written in some preliminary code below. Your task is to write in the necessary code from the point specified by \n",
    "```python \n",
    "# YOUR CODE HERE\n",
    "``` \n",
    "onwards. "
   ]
  },
  {
   "cell_type": "code",
   "execution_count": null,
   "id": "d427f30f",
   "metadata": {
    "deletable": false,
    "nbgrader": {
     "cell_type": "code",
     "checksum": "68352260a525744ab198c562b78fbfad",
     "grade": false,
     "grade_id": "cell-ddf6c10057053ba4",
     "locked": false,
     "schema_version": 3,
     "solution": true,
     "task": false
    }
   },
   "outputs": [],
   "source": [
    "# MAX_IT is the number of iterations that we will plot\n",
    "MAX_IT = 50\n",
    "# As seen above in python the imaginary \"i\" is represented by \"j\" \n",
    "c_0 = 0.3 + 0.2j\n",
    "c_1 = 0.39 + 0.16j\n",
    "c_2 = 0.2555 + 0j\n",
    "\n",
    "# We put these complex numbers in a list \n",
    "c_values = [c_0, c_1, c_2]\n",
    "# A neat way to generate different colors for each plot is to use a corresponding list\n",
    "plot_colours = ['r', 'g', 'b']\n",
    "\n",
    "# Set the figure size \n",
    "plt.figure(figsize=(8,6))\n",
    "# z_values is a zero array of length MAX_IT whose components are of complex number type.\n",
    "z_values = np.zeros((MAX_IT,), dtype=np.cdouble)\n",
    "\n",
    "# OVER TO YOU: TWO NESTED FOR LOOPS SUFFICE FOR THE PLOTTING. THE OUTER LOOP ITERATES OVER \n",
    "# c_values AND DOES THE NECESSARY PLOTTING. DURING ITERATION k THE INNER LOOP POPULATES z_values \n",
    "# WITH THE FIRST MAX_IT MANY VALUES OF THE MANDELBROT SEQUENCE INDUCED BY COMPLEX NUMBER c_k. \n",
    "# (THIS IS USED FOR THE PLOTTING) YOU SHOULD THEN SET UP THE Y AXIS AND LABELS ETC\n",
    "\n",
    "# YOUR CODE HERE\n"
   ]
  },
  {
   "cell_type": "markdown",
   "id": "86d72b6b",
   "metadata": {},
   "source": [
    "### Part 2: the Mandelbrot map\n",
    "\n",
    "It turns out that, given any complex number $c$, inspection of the initial segment $(z_0,z_1,\\dots, z_{99})$ comprising the first $100$ terms of the Mandelbrot sequence induced by $c$ gives us a  good guess as to whether or not $c$ does lie in the Mandelbrot set or not. Here we mean of course that we guess that $c$ is **not** in the Mandelbrot set  if and only if  for some $n < 100$, $|z_n| > 2$. Moreover when we implement the functions and code that we define below to draw the Mandelbrot set we need to assume a fixed number of iterations throughout our code. Accordingly here we  choose to use $100$ for this value. However of course we might in future want to refine our work by increasing the number of iterations.   Thus it makes sense  to define a global variable assigned to the maximum number of iterations (instead of, for example, passing this in to each function as a parameter). This we now do using the value $100$, in the cell below which you should run (otherwise the rest of your code will not execute.)  "
   ]
  },
  {
   "cell_type": "code",
   "execution_count": null,
   "id": "a548aa34",
   "metadata": {},
   "outputs": [],
   "source": [
    "MAXITER = 100"
   ]
  },
  {
   "cell_type": "markdown",
   "id": "9896fead",
   "metadata": {
    "deletable": false,
    "editable": false,
    "nbgrader": {
     "cell_type": "markdown",
     "checksum": "da658506a10391ce0ddfcd5839d163c3",
     "grade": false,
     "grade_id": "cell-388884bba0b17a50",
     "locked": true,
     "schema_version": 3,
     "solution": false,
     "task": false
    }
   },
   "source": [
    "Now your task is to write a function `mandel` with input parameter `c` which, supposing that that $(z_n)_{n \\ge 0}$ denotes the Mandelbrot sequence induced by `c`, should return the least $n < $ `MAXITER` such that   $|z_n| > 2$  if such an $n$ exists. Otherwise your function should return the number `MAXITER`.  "
   ]
  },
  {
   "cell_type": "code",
   "execution_count": null,
   "id": "293d10f7",
   "metadata": {
    "deletable": false,
    "nbgrader": {
     "cell_type": "code",
     "checksum": "dba2968a9162bdd7307008baf8c8ab2b",
     "grade": false,
     "grade_id": "cell-52f29b055db8747d",
     "locked": false,
     "schema_version": 3,
     "solution": true,
     "task": false
    }
   },
   "outputs": [],
   "source": [
    "# YOUR CODE HERE\n"
   ]
  },
  {
   "cell_type": "code",
   "execution_count": null,
   "id": "84e712b6",
   "metadata": {},
   "outputs": [],
   "source": [
    "# Test your function here. For example, which of the following two complex numbers\n",
    "# belong to the Mandelbrot set. \n",
    "c1 = 0.366 + 0.1j \n",
    "c2 = 0.367 + 0.1j\n",
    "print(mandel(c1))\n",
    "print(mandel(c2))\n",
    "# Further tests here... "
   ]
  },
  {
   "cell_type": "markdown",
   "id": "d245ec5a",
   "metadata": {},
   "source": [
    "### Part 3: practice example of pixellated plot using `pcolor`\n",
    "\n",
    "In section \"Pixellated and Contour plots using `pcolor` and `contourf`\" of Lecture 4.2 we saw an example of a pixellated plot using `pcolor`. As further practice, and to prepare us for plotting the Mandelbrot we use `pcolor` to plot the surface of the function \n",
    "\n",
    "$$ \n",
    "f(x,y) = \\sin(x^2-y^2) \\,. \n",
    "$$ \n",
    "\n",
    "You are given code for doing this  below. You should read this code carefully before moving on and... \n",
    "- Make sure that you understand what all the code does. For example do you fully understand the line\n",
    "```python\n",
    "x_matrix, y_matrix  = np.meshgrid(x_vector,y_vector)\n",
    "```\n",
    "and if not, you should consult Lecture 4.2. \n",
    "- We have plotted over the domain $[-2\\pi,2\\pi] \\times [-2\\pi,2\\pi]$ using space of 0.02 between coordinates. Try plotting over a larger domain, and try varying the space size. \n",
    "- We have used the colormap 'PuOr'. Try using another colour map. Remember that you can find documentation of the colour maps here:  <a href=\"https://matplotlib.org/stable/gallery/color/colormap_reference.html\">https://matplotlib.org/stable/gallery/color/colormap_reference.html</a> . \n"
   ]
  },
  {
   "cell_type": "code",
   "execution_count": null,
   "id": "152a6ccf",
   "metadata": {},
   "outputs": [],
   "source": [
    "# GIVEN EXAMPLE -  COPY THIS CODE INTO THE TESTING AREA\n",
    "# AND MODIFY IT THERE (SO AS TO PRESERVE THE ORIGINAL HERE)\n",
    "# RUN THIS CELL TO SEE THE OUTPUT\n",
    "\n",
    "# Choosing x and y regions. The periodicity is related to  2pi\n",
    "# We create two 1D arrays over [-2\\pi,2\\pi] space of 0.02 between each coordinate. \n",
    "x_vector = np.arange(-2*np.pi,2*np.pi,0.02)\n",
    "y_vector = np.arange(-2*np.pi,2*np.pi,0.02)\n",
    "\n",
    "# To compute the function on a grid of points, we need to turn x_vector and y_vector into  coordinate matrices\n",
    "# (See \"Generating a 2 dimensional coordinate grid\" in Lecture 4_2 for explanation)\n",
    "x_matrix, y_matrix  = np.meshgrid(x_vector, y_vector)\n",
    "\n",
    "# We can then compute the values of f on this grid\n",
    "f_matrix = np.sin(x_matrix**2 - y_matrix**2)\n",
    "\n",
    "# By inspection we can see that f should achieve minimum and \n",
    "# maximum values  -1 and 1 (or very close to these).\n",
    "f_MIN = f_matrix.min()\n",
    "f_MAX = f_matrix.max()\n",
    "print(f\"f_MIN = {f_MIN:.6f}, f_MAX = {f_MAX:.6f}\\n\")\n",
    "\n",
    "# So let's plot this! \n",
    "# If you comment out the next line a default size Figure object will still be created \n",
    "# by the call to the pyplot pcolor plotting function.\n",
    "plt.figure(figsize=(8,6))\n",
    "\n",
    "# We use the pixellated data plotting pyplot function `pcolor` \n",
    "# We have  chosen the PurpleOrange colormap. For vmin and vmax alternatively \n",
    "# we can just use -1 and 1 (since we can deduce these by inspection)\n",
    "plt.pcolor(x_matrix, y_matrix, f_matrix, cmap='PuOr', vmin = f_MIN, vmax = f_MAX)\n",
    "\n",
    "# The colorbar shows us the colour map values\n",
    "plt.colorbar()\n",
    "plt.xlabel('x')\n",
    "plt.ylabel('y')\n",
    "plt.title(\"The function $f(x,y)= sin(x^2 - y^2)$\")\n",
    "\n",
    "plt.show()"
   ]
  },
  {
   "cell_type": "code",
   "execution_count": null,
   "id": "4f3b66f0",
   "metadata": {},
   "outputs": [],
   "source": [
    "# TESTING AREA: COPY THE ABOVE CODE INTO THIS CELL AND\n",
    "# USE THIS CELL TO MODIFY AND PLAY ABOUT WITH IT AS \n",
    "# SUGGESTED ABOVE"
   ]
  },
  {
   "cell_type": "markdown",
   "id": "99065398",
   "metadata": {},
   "source": [
    "### Part 4: a function to create the Mandelbrot set\n",
    "\n",
    "We now design a function `make_mandelbrot_data` which has six input parameters. Its definition is of the form\n",
    "```python\n",
    "def make_mandelbrot_data(xmin, xmax, num_xpts, ymin, ymax, num_ypts)\n",
    "    # Body of the function\n",
    "```\n",
    "where the pair `xmin`, `xmax` and the pair `ymin` and `ymax` represent the end points of an interval of $x$ coordinates and an interval of $y$ coordinates respectively (so representing between them a rectangular region of the plane). Also `num_xpts` and `num_ypts` are respectively the number of equally spaced $x$ coordinates and $y$ coordinates that we specify over this segment of the plane. (Often we use the same number of points for both but being able to define these two values separately can be useful for high resolution plots.) \n",
    "\n",
    "The object of our function is to first create a matrix of $x$ coordinates `x_matrix` and a matrix of $y$ coordinates `y_matrix` representing, as usual (see Lecture 4.2 - \"Generating a 2 dimensional coordinate grid\"), a grid of two dimensional coordinates of the same dimensions. Here however our coordinates are thought of as being in the complex plane.  Our function then creates a matrix of the same dimensions  `n_matrix` which it populates with the result of applying the function `mantel` to the complex numbers represented in this grid. \n",
    "\n",
    "- In more detail, supposing that `x_matrix` is the $d_1 \\times d_2$ matrix $(x_{kl})$ and `y_matrix` is the $d_1 \\times d_2$ matrix $(y_{kl})$, then `n_matrix` will be the $d_1 \\times d_2$ matrix $(n_{kl})$ where, for each $k,l$, component $n_{kl}$ is the result of the computation of the function `mantel` on input $c_{kl} := x_{kl} + y_{kl}i$. \n",
    "\n",
    "Our function then returns the 3-tuple (`x_matrix`, `y_matrix`, `n_matrix`). (The brackets are optional here.) \n",
    "\n",
    "We have already designed most of the function. Your task is to code the action specified in the bullet point above. You should do this in the space below the line \n",
    "```python\n",
    "# YOUR CODE HERE\n",
    "```\n",
    "in the cell below."
   ]
  },
  {
   "cell_type": "code",
   "execution_count": null,
   "id": "14b59732",
   "metadata": {
    "deletable": false,
    "nbgrader": {
     "cell_type": "code",
     "checksum": "ca82175ecbfea058d8d8375838d265a3",
     "grade": false,
     "grade_id": "cell-4cb569b83ad348f0",
     "locked": false,
     "schema_version": 3,
     "solution": true,
     "task": false
    }
   },
   "outputs": [],
   "source": [
    "def make_mandelbrot_data(xmin, xmax, num_xpts, ymin, ymax, num_ypts):\n",
    "    # Global variable used (inside the call to mandel): MAXITER\n",
    "    # First construct  x and y vectors, this time using the \n",
    "    # function linspace. \n",
    "    x_vector = np.linspace(xmin, xmax, num_xpts)\n",
    "    y_vector = np.linspace(ymin, ymax, num_ypts)\n",
    "\n",
    "    # We transform  x_vector and y_vector into matrices that together represent a grid of coordinates\n",
    "    # (See \"Generating a 2 dimensional coordinate grid\" in Lecture 4_2 for explanation)\n",
    "    x_matrix, y_matrix = np.meshgrid(x_vector, y_vector)\n",
    "\n",
    "    # We create a zero matrix \"n_matrix\" of the same dimensions as x_matrix and y_matrix  \n",
    "    rows, cols = np.shape(x_matrix)\n",
    "    n_matrix = np.zeros((rows,cols), dtype=int) # Neat using dtype=int, but no need for this\n",
    "    \n",
    "    # OVER TO YOU: YOUR CODE MUST POPULATE n_matrix WITH THE APPROPRIATE VALUES \n",
    "    # AS SPECIFIED IN THE BULLET POINT ABOVE \n",
    "    # YOUR CODE HERE\n",
    "    "
   ]
  },
  {
   "cell_type": "code",
   "execution_count": null,
   "id": "3a780762",
   "metadata": {
    "deletable": false,
    "nbgrader": {
     "cell_type": "code",
     "checksum": "1f2dc6f24de9dd580b349e3ef93e97cc",
     "grade": false,
     "grade_id": "cell-f5980ce853f3c9e8",
     "locked": false,
     "schema_version": 3,
     "solution": true,
     "task": false
    }
   },
   "outputs": [],
   "source": [
    "# ALTERNATIVE SOLUTION - TAKING ADVANTAGE OF NUMPY FUNCTIONALITY - TO APPEAR IN THE MODEL SOLUTION\n",
    "# IN FACT IF WE \"vectorize\" THE FUNCTION mandel WE CAN GENERATE n_matrix MORE DIRECTLY \n",
    "# WITHOUT USE OF A \"for loop\" TO POPULATE IT\n",
    "# YOUR CODE HERE\n"
   ]
  },
  {
   "cell_type": "code",
   "execution_count": null,
   "id": "d12abdb5",
   "metadata": {},
   "outputs": [],
   "source": [
    "# YOU CAN TEST YOUR FUNCTION HERE\n",
    "NUM_POINTS = 11\n",
    "make_mandelbrot_data(-1,1,NUM_POINTS,-1.,1.,NUM_POINTS)\n",
    "# More of your tests here... "
   ]
  },
  {
   "cell_type": "code",
   "execution_count": null,
   "id": "a1d96ee0",
   "metadata": {},
   "outputs": [],
   "source": [
    "# ANOTHER TEST ADDED FOR ILLUSTRATION. WE HAVE ZOOMED INTO A \"BORDER\" REGION OF THE MANDELBROT SET\n",
    "# REMEMBER THAT IN THE THIRD ARRAY (n_matrix) 100 (= MAXITER) MEANS THAT THE COMPLEX POINT (WHOSE COORDINATES \n",
    "# ARE THE CORRESPONDING COMPONENTS IN THE TWO PRECEDING ARRAYS) IS IN THE MANDELBROT SET, \n",
    "# ANY OTHER (LOWER) VALUE MEANS THAT IT IS NOT IN THE SET\n",
    "NUM_POINTS = 5\n",
    "x_matrix, y_matrix, n_matrix = make_mandelbrot_data(0.36,0.37,NUM_POINTS,0.1, 0.11,NUM_POINTS)\n",
    "print(x_matrix,\"\\n\")\n",
    "print(y_matrix,\"\\n\")\n",
    "print(n_matrix,\"\\n\")"
   ]
  },
  {
   "cell_type": "markdown",
   "id": "007bbed6",
   "metadata": {
    "deletable": false,
    "editable": false,
    "nbgrader": {
     "cell_type": "markdown",
     "checksum": "4e43db6c568edbe310502a0a371a2b8f",
     "grade": false,
     "grade_id": "cell-699bc42e7a538cbd",
     "locked": true,
     "schema_version": 3,
     "solution": false,
     "task": false
    }
   },
   "source": [
    "### Part 5: plot the Mandelbrot set\n",
    "\n",
    "You should have noticed that our function `make_mandelbrot_data` returns three numpy arrays of the type that the pyplot pixellated plotting function `pcolor` takes as its first three input arguments. The matrices/arrays returned correspond respectively to the $x$, $y$ and $z$ coordinates in 3 dimensions with the $z$ coordinate corresponding to the output $n$ of the function `mantel` on complex number $c = x + yi$. Remember that $c$ is (or, more precisely, we guess that it is)  in the Mandelbrot set if this  output $n$ is  $=$ `MAXITER` and $c$ is not in the set otherwise (i.e. if $n <$ `MAXITER`). The function `pcolor` calibrates the colours of each point $c$ in the complex plane (or at least in our grid) according to the size of $n$ and hence we can see for each point if it is either  in the Mandelbrot set  or otherwise \"how far out\" of, the Mandelbrot set it is according to the colour attributed to it. \n",
    "\n",
    "You should now proceed by retrieving (via the function `make_mandelbrot_data` the mandelbrot data on the region $[-2,1] \\times [-1.5,1,5]$ of the complex plane with, for example `NUM_POINTS = 401` many coordinates for both the $x$ and $y$ coordinates. \n",
    "\n",
    "You should then plot your result in a similar manner to that used in the example of Part 3, or in subsection \"Pixellated plot using `pcolor`\" of Lecture 4.2. We suggest that you use the colour map 'gist_ncar' (instead of the colour map 'PuOr' above or 'PiYG'  used in Lecture 4.2) as this allows you to see clearly how the $n$ values output by the  `mandel` function vary. There are however lots of colour maps that you can choose from: you can copy and paste the names from the page <a href=\"https://matplotlib.org/stable/gallery/color/colormap_reference.html\">https://matplotlib.org/stable/gallery/color/colormap_reference.html</a> . To define the colour limits you should set  `vmin = 1` and `vmax = MAXITER`. (We know that these are the minimum and maximum values returned by the function `mandel` on the region $[-2,1] \\times [-1.5,1,5]$ so there is no need to compute these values as we have done in other examples.) \n",
    "\n"
   ]
  },
  {
   "cell_type": "code",
   "execution_count": null,
   "id": "6d59fe9a",
   "metadata": {
    "deletable": false,
    "nbgrader": {
     "cell_type": "code",
     "checksum": "23c4333a0980caf765b0dd7b20aa2232",
     "grade": false,
     "grade_id": "cell-afd096bcfeedc402",
     "locked": false,
     "schema_version": 3,
     "solution": true,
     "task": false
    }
   },
   "outputs": [],
   "source": [
    "NUM_POINTS = 401 # YOU CAN TRY E.G. 501 TO GET HIGHER RESOLUTION (BUT MORE SLOWLY PROCESSED)\n",
    "# YOUR CODE HERE\n"
   ]
  }
 ],
 "metadata": {
  "kernelspec": {
   "display_name": "Python 3",
   "language": "python",
   "name": "python3"
  },
  "language_info": {
   "codemirror_mode": {
    "name": "ipython",
    "version": 3
   },
   "file_extension": ".py",
   "mimetype": "text/x-python",
   "name": "python",
   "nbconvert_exporter": "python",
   "pygments_lexer": "ipython3",
   "version": "3.12.4"
  }
 },
 "nbformat": 4,
 "nbformat_minor": 5
}
