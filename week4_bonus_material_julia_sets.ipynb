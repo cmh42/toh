{
 "cells": [
  {
   "cell_type": "markdown",
   "id": "a9403b68",
   "metadata": {},
   "source": [
    "# Week 4 Bonus Material: Julia Sets. \n",
    "\n",
    "\n",
    "<div class=\"alert alert-warning\">\n",
    "\n",
    "**For enthusiasts - this material is entirely optional - you do not need to study it**\n",
    "\n",
    "Below is a bonus question on Julia Sets.  It is not assessed. \n",
    "\n",
    "(For later in TB1...) If you are doing the **Recursive animations and Towers of Hanoi** group project you will find it useful to work through and solve this question. \n",
    "\n",
    "Model solutions are not provided but **Recursive animations and Towers of Hanoi** project students are encouraged to come and discuss their solution with me (the project supervisor) Charles Harris. \n",
    "\n",
    "</div>"
   ]
  },
  {
   "cell_type": "markdown",
   "id": "d2abc6f7",
   "metadata": {},
   "source": [
    "## Bonus Question: Julia Sets\n",
    "\n",
    "Suppose  that $j_p$ is some (fixed) complex number. We define  the **Julia set with parameter $j_p$** to be  the set of values $c$ in the complex plane such that the sequence $(z_n)_{n \\ge 0}$ defined by the recurrence relation \n",
    "\n",
    "$$\n",
    "z_0 = c  \\quad \\text{and} \\quad z_n = z_{n-1}^2 + j_p, \\quad \\text{for } n = 1,2,3,\\dots\n",
    "$$\n",
    "\n",
    "is bounded. We say that $(z_n)_{n \\ge 0}$ is the  *Julia sequence with parameter $j_p$ induced by* $c$. (It would be more correct to write it as, for example $\\big(z^{j_p,c}_n\\big)_{n \\ge 0}$ to explicitly show the dependence on the paramater $j_p$ and the number  $c$. However this would clutter our notation.) \n",
    "\n",
    "**Reminder 1.** $(z_n)_{n \\ge 0}$ being bounded means that, for some natural number (or positive real number) $N$, $|z_n| \\le N$ for all $n \\ge 0$. \n",
    "\n",
    "\n",
    "Note that the above definition means that, given complex number $c$ the Julia sequence $(z_n)_{n \\ge 0}$ with parameter $j_p$ induced by $c$  starts as: $z_0 = c$, $z_1 = c^2 + j_p$, $z_2 = (c^2 + j_p)^2 + j_p$, $z_3 = ((c^2 + j_p)^2 + j_p)^2 + j_p$, etc. \n",
    "\n",
    "**Note 1.** We know that, for given parameter $j_p$ and complex number $c$ the Julia sequence $(z_n)_{n \\ge 0}$ with parameter $j_p$ induced by $c$  diverges to infinity - i.e. is NOT bounded - precisely in the case when $|z_n| > R$ for some $n$, where $R$ is the positive root of the quadratic equation \n",
    "\n",
    "$$\n",
    "r^2 - r - |j_p| = 0 \\,.\n",
    "$$ \n",
    "\n",
    "(Since this is equivalent to saying that $(|z_n|)_{n \\ge 0}$ is bounded below by a geometric series with common ratio greater than $1$.)\n",
    "Moreover, in general, when $(z_n)_{n \\ge 0}$ does diverge, we are able to find some small $n$ such  that $|z_n| > R$.  Thus we can compute a good guess as to whether $c$ is in the Julia set with parameter $j_p$ or not by inspecting some fixed number of initial terms of the Julia sequence $(z_n)_{n \\ge 0}$ with parametr $j_p$ induced by $c$, whatever the value of $c$. \n",
    "\n",
    "**Note 2.** If $|c| > R$ (with $j_p$ and $R$ defined as in Note 1) then $|z_0| > R$ and so the sequence $(z_n)_{n \\ge 0}$ with parameter $j_p$ induced by $c$ diverges (whatever the value of the fixed parameter $j_p$). Thus the only region of the plane of interest to us lies within the  $2R \\times 2R$ square of the Complex Plane centred at 0 (with $R + Ri$ as top right corner etc.). \n",
    "\n",
    "**Reminder 2.** The complex number number $z = a + bi$ is represented as `a` $+$ `b*1j` in python. I.e. in python the $\\sqrt{-1}$ is represented by `1j`. Remember also that $|z| := \\sqrt{a^2 + b^2}$ and can be computed in python using `abs(z)`.\n",
    "\n",
    "**Advice.** You should make sure that you understand the difference between the definition of Julia Sets and the Mandelbrot Set that we studied in the Tutorial of Week 4. Also, being conversant with the Tutorial exercises will help you here. "
   ]
  },
  {
   "cell_type": "markdown",
   "id": "6555a255",
   "metadata": {},
   "source": [
    "<div class=\"alert alert-success\">\n",
    "\n",
    "### Given function: the Julia map \n",
    "</div> \n",
    "As with the Mandelbrot sequences it turns out that, given any complex number $c$, inspection of the initial segment $(z_0,z_1,\\dots, z_{99})$ comprising the first $100$ terms of the Julia sequence with parameter $j_p$ induced by $c$, gives us a  good guess as to whether or not $c$ does lie in the Julia set with parameter $j_p$ or not. \n",
    "\n",
    "Here we mean of course that   we guess that $c$ is in the Julia set with paramter $j_p$  if and only if  it is NOT the case that $|z_n| > R$ for some $n < 100$ (where $R$ is defined, as above, to be  the positive root of $r^2 - r - |j_p| = 0$). \n",
    "\n",
    "Moreover, as with our work on the Mandelbrot set,  when we implement the functions and code to draw Julia sets we need to assume a fixed number of iterations throughout our code. Accordingly here we again choose to use $100$ for this value. As explained in the Tutorial of Week 4 it makes sense to define a global variable which we assign to the maximum number of iterations of $(z_n)_{n \\ge 0}$ that we want to use. This we now do using the value $100$ in the cell below (which you should run). \n"
   ]
  },
  {
   "cell_type": "code",
   "execution_count": null,
   "id": "ddb098d5",
   "metadata": {},
   "outputs": [],
   "source": [
    "import numpy as np\n",
    "import matplotlib.pyplot as plt \n",
    "\n",
    "MAXITER = 100"
   ]
  },
  {
   "cell_type": "markdown",
   "id": "5ab9ddf0",
   "metadata": {},
   "source": [
    "You are given the function  `julia(j_p,c)` which, supposing that $(z_n)_{n \\ge 0}$ denotes the Julia sequence with parameter `j_p` induced by `c`, returns the least $n < $ `MAXITER` such that   $|z_n| > R$  (with $R$ the positive root defined above) if such an $n$ exists. Otherwise this function  returns the number `MAXITER`.  "
   ]
  },
  {
   "cell_type": "code",
   "execution_count": null,
   "id": "a28d09eb",
   "metadata": {},
   "outputs": [],
   "source": [
    "def julia(j_p,c):\n",
    "    # Global variable used: MAXITER\n",
    "    # R is +ve root of r^2 - r - |j_p| = 0\n",
    "    R = (1 + (1 + 4 * abs(j_p))**0.5 ) / 2.0 \n",
    "    # n is used for the number of steps/iterations \n",
    "    n = 0 \n",
    "    # z starts life as z_0 = c\n",
    "    z = c\n",
    "    # Compute z = z_n at each iteration and continue for as long \n",
    "    # as the sequence (z_n) does not start to diverge and n < MAXITER\n",
    "    while abs(z) <= R and n < MAXITER: \n",
    "        z = z**2 + j_p\n",
    "        n += 1\n",
    "    # Then return the first n such that we escape the threshold R (or else n = MAXITER)\n",
    "    return n "
   ]
  },
  {
   "cell_type": "code",
   "execution_count": null,
   "id": "b59ab314",
   "metadata": {},
   "outputs": [],
   "source": [
    "# TESTING AREA: USE THIS CELL TO TEST THE GIVEN julia FUNCTION \n",
    "# SOME CHECKS ARE GIVEN BELOW\n",
    "j_par = 0.7885*np.exp(1.67*1j)\n",
    "c1, c2, c3 = 0.2647 + 0.2957*1j, 0.1106 + 0.1693*1j, 0.1861 + 0.3182*1j\n",
    "n1, n2, n3 = julia(j_par,c1), julia(j_par,c2), julia(j_par,c3)\n",
    "# Result should be n1 = 15, n2 = 100, n3 = 8\n",
    "print(\"n1 n2 n3 =\", n1, n2, n3)"
   ]
  },
  {
   "cell_type": "markdown",
   "id": "f2d715b0",
   "metadata": {},
   "source": [
    "### Part 1: a function to create Julia sets \n",
    "\n",
    "You should now  design a function `make_julia_data` which has four input parameters. Its definition is of the form\n",
    "```python\n",
    "def make_julia_data(j_p, cd_min, cd_max, num_cds) \n",
    "    # Body of the function\n",
    "```\n",
    "where `j_p` is a complex number representing a  Julia set parameter and the pair `cd_min`, `cd_max` are real numbers to be used as end points of both an interval of $x$ coordinates and an interval of $y$ coordinates $-$ so representing between them the square region of the plane `[cd_min,cd_max]` $\\times$ `[cd_min,cd_max]`. Also `num_cds` is an integer to be used as  the number of equally spaced $x$ coordinates and the number of equally spaced $y$ coordinates that we specify over this square region of the plane.\n",
    "\n",
    "Similarly to the function `make_mandelbrot_data` from the Tutorial of Week 4 the object of your function `make_julia_data` is to first create a matrix of $x$ coordinates `x_matrix` and a matrix of $y$ coordinates `y_matrix` representing, as usual, a grid of two dimensional coordinates of the same dimensions for the square region `[cd_min,cd_max]` $\\times$ `[cd_min,cd_max]` of the plane. Here (similarly to the Tutorial of Week 4) the coordinates are thought of as being in the complex plane.  Your function then creates a matrix of the same dimensions `n_matrix` which it populates with the result of function calls of the form `julia(j_p,c)` for every  complex number `c` represented in this grid.\n",
    "\n",
    "- In more detail, supposing that `x_matrix` is the $d \\times d$ matrix $(x_{kl})$ and `y_matrix` is the $d \\times d$ matrix $(y_{kl})$, then `n_matrix` will be the $d \\times d$ matrix $(n_{kl})$ where, for each $k,l$, $n_{kl}$ is the result of the computation of the function `julia` called with the Julia set parameter `j_p` as first input and the number $c_{kl} := x_{kl} + y_{kl}i$ as second input. \n",
    "\n",
    "**Remark.** You should notice that the $d$ in the dimension of the grid matrices actually corresponds to the number of coordinates in both the $x$ and the $y$ directions. I.e. $d$ = `num_cds`.\n",
    "\n",
    "Your function  should **return** the 3-tuple (`x_matrix`, `y_matrix`, `n_matrix`). "
   ]
  },
  {
   "cell_type": "code",
   "execution_count": null,
   "id": "d1b14556",
   "metadata": {},
   "outputs": [],
   "source": [
    "# YOUR CODE HERE\n",
    "raise NotImplementedError()"
   ]
  },
  {
   "cell_type": "code",
   "execution_count": null,
   "id": "55c28853",
   "metadata": {},
   "outputs": [],
   "source": [
    "# TESTING AREA USE THIS CELL TO CHECK OR TEST YOUR CODE\n",
    "J_PAR = -0.4 + 0.6*1j\n",
    "x, y = -0.2, -0.2\n",
    "julia(J_PAR, x + y*1j)"
   ]
  },
  {
   "cell_type": "code",
   "execution_count": null,
   "id": "b36a5c49",
   "metadata": {},
   "outputs": [],
   "source": [
    "# TESTING CELL: YOUR FUNCTION SHOULD PASS THESE TESTS\n",
    "def julia_test(a_matrix):\n",
    "    # Global variable used: MAXITER\n",
    "    # The input a_matrix is expected to have integer components in the interval \n",
    "    # [0,MAXITER]. julia_test returns a boolean matrix of the same dimensions in \n",
    "    # which the only components with value True correspond to the components of \n",
    "    # n_matrix with value MAXITER. All other components have value False\n",
    "    return a_matrix == MAXITER\n",
    "# TESTING STARTS HERE, WITH PRINTOUTS\n",
    "MAXITER = 100 \n",
    "J_PAR = -0.4 + 0.6*1j\n",
    "NUM_CDS = 5\n",
    "x_matrix1, y_matrix1, n_matrix1 = make_julia_data(J_PAR, -0.2, 0.2, NUM_CDS)\n",
    "print(\"x_matrix1 =\\n\",x_matrix1)\n",
    "print(\"y_matrix1 =\\n\",y_matrix1)\n",
    "print(\"n_matrix1 =\\n\",n_matrix1)\n",
    "n_matrix1_sol = np.array([[ 10,  14,  70,  40,  92],\n",
    "                         [100,  18,  67,  30,  47],\n",
    "                         [ 46,  23,  26,  23,  46],\n",
    "                         [ 47,  30,  67,  18, 100],\n",
    "                         [ 92,  40,  70,  14,  10]]) \n",
    "assert (julia_test(n_matrix1) == julia_test(n_matrix1_sol)).all()\n",
    "\n",
    "### MORE TESTS\n",
    "_J_PAR = -0.208 + 0.7885*1j\n",
    "_NUM_CDS = 7\n",
    "x_matrix2, y_matrix2, n_matrix2 = make_julia_data(_J_PAR, -0.6, 0.6, _NUM_CDS)\n",
    "print(\"x_matrix2 =\\n\",x_matrix2)\n",
    "print(\"y_matrix2 =\\n\",y_matrix2)\n",
    "print(\"n_matrix2 =\\n\",n_matrix2)\n",
    "n_matrix2_sol = \\\n",
    "np.array([[  2,   2,   3, 100,  75, 100, 100],\n",
    "          [  2,   3,   5,   7,  12,  23,   9],\n",
    "          [  2, 100,  10,  14, 100, 100,   5],\n",
    "          [  4,   9, 100, 100, 100,   9,   4],\n",
    "          [  5, 100, 100,  14,  10, 100,   2],\n",
    "          [  9,  23,  12,   7,   5,   3,   2],\n",
    "          [100, 100,  75, 100,   3,   2,   2]])\n",
    "assert (julia_test(n_matrix2) == julia_test(n_matrix2_sol)).all()\n"
   ]
  },
  {
   "cell_type": "markdown",
   "id": "a27d32bc",
   "metadata": {},
   "source": [
    "### Part 2: Plot four different Julia Sets\n",
    "\n",
    "Similarly to the function `make_mandelbrot_data` of the Tutorial of Week 4 `make_julia_data`  returns three numpy arrays of the type that the pyplot pixellated plotting function `pcolor` takes as its first three input arguments. The matrices/arrays returned correspond respectively to the $x$, $y$ and $z$ coordinates in 3 dimensions where, for each point $(x,y,z)$,  the coordinate $z$ is the  integer returned by the function `julia` with inputs $j_p$ and $c := x +iy$ where $j_p$ is the Julia set parameter passed as an argument to `make_julia_data`. Remember that $c$ is (or, more precisely, we guess that it is)  in the Julia set with paramater $j_p$ if $z =$ `MAXITER` and $c$ is not in the set otherwise (i.e. if $z <$ `MAXITER`). The function `pcolor` calibrates the colours of each point $c$ in the complex plane (or at least in our grid) according to the size of $z$  and hence we can see for each point if it is either  in the Julia set  or otherwise \"how far out\" of, the Julia set it is according to the colour attributed to it. \n",
    "\n",
    "Your task here is to plot four Julia sets each derived using a different parameter $j_p$. You will arrange your plots into a square grid of 4 subplots, just as we did for functions $f$, $g$, $h$ and $k$ in section \"Multiple individual subplots in one Figure\" in Lecture 4.2.  The details for this are as follows. \n",
    "- The overall figure size should be given by setting the parameter `figsize` of the `plt.figure` function to (14,12). \n",
    "- Each subplot should cover precisely the square region of the  plane corresponding to  $[-2,2] \\times [-2,2]$ (as this suffices here). \n",
    "- The number of coordinates used should be the same for each subplot. You should set this to 200 $-$ for example set variable `NUM_CD = 200` and use `NUM_CD` as (the last) input to the function `make_julia_data` when preparing the grid data for each subplot.\n",
    "- To define the colour limits (for every subplot)  you should set `vmin = 0` and `vmax = MAXITER`\n",
    "- Each subplot should have a colorbar associated with it. It should also have a title that includes the Julia set parameter and the colormap used. (You do not need to, and should not, label the axes as this would clutter your output.)\n",
    "\n",
    "The four subplots should be as follows. \n",
    "1. *Top left.* The Julia Set with parameter $j_p = 0.7885 \\cdot e^{3.05i}$, plotted using the colormap `'plasma'`. \n",
    "2. *Top right.* The Julia Set with parameter $j_p = 0.7885 \\cdot e^{2.25i}$, plotted using the colormap `'magma'`. \n",
    "3. *Bottom left.* The Julia Set with parameter $j_p = 0.7885 \\cdot e^{4.5i}$, plotted using the colormap `'viridis'`. \n",
    "4. *Bottom right.* The Julia Set with parameter $j_p = 0.7885 \\cdot e^{2.29i}$, plotted using the colormap `'inferno'`. \n",
    "\n",
    "For each of these subplots you should first generate the grid data for the plot using your function `make_julia_data` with appropriate arguments (in the same way that we used `make_mandelbrot_data` in the Tutorial of Week 4). \n",
    "\n",
    "**Note 1.** Setting the number of coordinates `NUM_CDS` used to 200 allows the plot to be computed within 6 seconds. To get higher resolution you can set this to 400 for example. However in the final version that you submit for grading make sure that the number of coordinates is set to 200 and NOT more. (In order to ensure that the automatic grader does not fail due to time-out on this question.) \n",
    "\n",
    "**Note 2.** You must use the Julia set parameter and colormap for each subplot prescribed above. (The colormaps were chosen from those listed on <a href=\"https://matplotlib.org/stable/gallery/color/colormap_reference.html\">https://matplotlib.org/stable/gallery/color/colormap_reference.html</a> ). "
   ]
  },
  {
   "cell_type": "code",
   "execution_count": 1,
   "id": "dc50bce8",
   "metadata": {
    "scrolled": false
   },
   "outputs": [
    {
     "ename": "NotImplementedError",
     "evalue": "",
     "output_type": "error",
     "traceback": [
      "\u001b[0;31m---------------------------------------------------------------------------\u001b[0m",
      "\u001b[0;31mNotImplementedError\u001b[0m                       Traceback (most recent call last)",
      "\u001b[0;32m<ipython-input-1-15b94d1fa268>\u001b[0m in \u001b[0;36m<module>\u001b[0;34m\u001b[0m\n\u001b[1;32m      1\u001b[0m \u001b[0;31m# YOUR CODE HERE\u001b[0m\u001b[0;34m\u001b[0m\u001b[0;34m\u001b[0m\u001b[0;34m\u001b[0m\u001b[0m\n\u001b[0;32m----> 2\u001b[0;31m \u001b[0;32mraise\u001b[0m \u001b[0mNotImplementedError\u001b[0m\u001b[0;34m(\u001b[0m\u001b[0;34m)\u001b[0m\u001b[0;34m\u001b[0m\u001b[0;34m\u001b[0m\u001b[0m\n\u001b[0m",
      "\u001b[0;31mNotImplementedError\u001b[0m: "
     ]
    }
   ],
   "source": [
    "# YOUR CODE HERE\n",
    "raise NotImplementedError()"
   ]
  }
 ],
 "metadata": {
  "kernelspec": {
   "display_name": "Python 3",
   "language": "python",
   "name": "python3"
  },
  "language_info": {
   "codemirror_mode": {
    "name": "ipython",
    "version": 3
   },
   "file_extension": ".py",
   "mimetype": "text/x-python",
   "name": "python",
   "nbconvert_exporter": "python",
   "pygments_lexer": "ipython3",
   "version": "3.7.3"
  }
 },
 "nbformat": 4,
 "nbformat_minor": 5
}
