{
 "cells": [
  {
   "cell_type": "markdown",
   "metadata": {},
   "source": [
    "# Animation Examples: background for students"
   ]
  },
  {
   "cell_type": "markdown",
   "metadata": {},
   "source": [
    "You can write  `pygame` animation functions and run them in the usual way inside your Jupyter Notebook.  Below is the example (mentioned in the project outline) involving Sierpinski's Triangle. You will also find below (as further illustration of how `pygame` works) a Bouncing Ball example. "
   ]
  },
  {
   "cell_type": "code",
   "execution_count": 1,
   "metadata": {},
   "outputs": [
    {
     "name": "stdout",
     "output_type": "stream",
     "text": [
      "pygame 2.1.2 (SDL 2.0.18, Python 3.7.3)\n",
      "Hello from the pygame community. https://www.pygame.org/contribute.html\n"
     ]
    }
   ],
   "source": [
    "# Imports... \n",
    "import random, pygame, os"
   ]
  },
  {
   "cell_type": "markdown",
   "metadata": {},
   "source": [
    "# The Sierpinski Triangle "
   ]
  },
  {
   "cell_type": "markdown",
   "metadata": {},
   "source": [
    "Using `pygame` we can draw fractals in an interactive way. The function `draw_sierpinski`  draws the Sierpinski triangle up to a given depth. The function `make_sierpinski` directly below is used by the function `draw_sierpinski`. "
   ]
  },
  {
   "cell_type": "code",
   "execution_count": 2,
   "metadata": {},
   "outputs": [],
   "source": [
    "def make_sierpinski(depth, triangle, triangle_list):\n",
    "    '''\n",
    "    Function inputs: depth (of recursion), triangle (vertex coordinates)\n",
    "    triangle_list (list of triange coordinates)\n",
    "    Modifies triangle_list: all the depth 1 (bottom) triangles are added \n",
    "    to this list (using recursion relative to the input triangle)\n",
    "    '''\n",
    "    (x0,y0) = triangle[0]\n",
    "    (x1,y1) = triangle[1]\n",
    "    (x2,y2) = triangle[2]\n",
    "    # Maximum depth reached (going down) so add this triangle to the list\n",
    "    if depth == 1:\n",
    "        triangle_list.append(triangle)\n",
    "        return None \n",
    "    # Otherwise split triangle into three sub triangles\n",
    "    midpoint_A = (x0 + (x1-x0)/2.0, y0)\n",
    "    midpoint_B = (x0 + (x2-x0)/2.0, y2 + (y0-y2)/2.0)\n",
    "    midpoint_C = (x2 + (x1-x2)/2.0, y2 + (y1-y2)/2.0)\n",
    "    # First triangle, recursive call on it\n",
    "    new_triangle = ((x0,y0), midpoint_A, midpoint_B)\n",
    "    make_sierpinski(depth-1, new_triangle, triangle_list)\n",
    "    # Second triangle, recursive call on it\n",
    "    new_triangle = (midpoint_A, (x1,y1), midpoint_C)\n",
    "    make_sierpinski(depth-1,new_triangle,triangle_list)\n",
    "    # Third triangle, recursive call on it\n",
    "    new_triangle = (midpoint_B, midpoint_C, (x2,y2))\n",
    "    make_sierpinski(depth-1, new_triangle, triangle_list)    \n",
    "    # No need for a return statement (personal preference) \n",
    "    return None"
   ]
  },
  {
   "cell_type": "code",
   "execution_count": 3,
   "metadata": {},
   "outputs": [],
   "source": [
    "def draw_sierpinski(depth=6):\n",
    "    '''\n",
    "    Function that draws the Sierpinski triangle as an animation. \n",
    "    The depth of the triangle (recursion) can be adjusted by entering \n",
    "    a depth integer value (in [1,10]) as a parameter. \n",
    "    For example: python sierpinski.py 8 \n",
    "    '''\n",
    "    \n",
    "    dimensions = (900, 862)\n",
    "    backgroundColour = (255,255,255)\n",
    "    blue, black = (0,0,255), (0,0,0)\n",
    "    # This is the overall outline triangle\n",
    "    master_triangle = ((50,800),(850,800),(450,62))\n",
    "    min_depth, max_depth = 1, 10\n",
    "    speed_factor = 4\n",
    "    clock = pygame.time.Clock()\n",
    "    warning = \"Depth must be an integer in the interval [1,10]\"\n",
    "\n",
    "    if depth < min_depth: \n",
    "        depth = min_depth\n",
    "        print(warning)\n",
    "        print(\"Using depth {}\".format(min_depth))\n",
    "    if depth > max_depth: \n",
    "        depth = max_depth\n",
    "        print(warning)\n",
    "        print(\"Using depth {}\".format(max_depth))\n",
    "\n",
    "    # Defines the speed of the animation (see the animation loop) \n",
    "    frames_per_second = 20  + 10 * speed_factor\n",
    "    # Make a list of all the triangle vertex coordinates of the given \n",
    "    # depth (in make_sierpinski we process  depth to work down to 1)\n",
    "    triangle_list = []\n",
    "    make_sierpinski(depth,master_triangle,triangle_list)\n",
    "\n",
    "    # Initialise pygame and the screen display object and title\n",
    "    pygame.init()\n",
    "    screen = pygame.display.set_mode(dimensions)\n",
    "    # Put the title and instructions for the animation in the title bar of the animation.\n",
    "    caption = 'Sierpinski Triangle            '\n",
    "    caption += '(1)  \\'Space\\' to start or pause    '\n",
    "    caption += '(2)  Further keystroke instruction here?'\n",
    "    pygame.display.set_caption(caption)\n",
    "\n",
    "    # Initialise the display \n",
    "    screen.fill(backgroundColour)\n",
    "    pygame.display.flip()\n",
    "\n",
    "    # Total number of triangles to be drawn \n",
    "    number_of_triangles = len(triangle_list)\n",
    "    index = 0\n",
    "    draw_triangle = False\n",
    "    keep_running = True\n",
    "\n",
    "    # Animation loop \n",
    "    while keep_running:\n",
    "        for event in pygame.event.get():\n",
    "            # Exit (at end of this iteration) using quit (e.g Ctrl-q or red button)\n",
    "            if event.type == pygame.QUIT:\n",
    "                keep_running = False\n",
    "            # Start and pause the animation with the space key \n",
    "            elif event.type == pygame.KEYDOWN and event.key == pygame.K_SPACE:\n",
    "                draw_triangle  = not draw_triangle \n",
    "\n",
    "        # Keep draw next triangle with index 'index' if not told to pause and not complete\n",
    "        if draw_triangle and index  < number_of_triangles:\n",
    "            pygame.draw.polygon(screen, black, triangle_list[index], 1)\n",
    "            # Now update so that latest triangle is added \n",
    "            pygame.display.update()\n",
    "            # Pause time before next iteration starts: one clock tick  \n",
    "            clock.tick(frames_per_second)\n",
    "            # Index uptate: index walks through triangle_list indices\n",
    "            index += 1\n",
    "            \n",
    "    pygame.quit()\n",
    "    return None"
   ]
  },
  {
   "cell_type": "code",
   "execution_count": 4,
   "metadata": {},
   "outputs": [],
   "source": [
    "draw_sierpinski(5)"
   ]
  },
  {
   "cell_type": "markdown",
   "metadata": {},
   "source": [
    "Again we could let the user run the function interactively. "
   ]
  },
  {
   "cell_type": "code",
   "execution_count": 5,
   "metadata": {},
   "outputs": [],
   "source": [
    "def run_sierpinski(): \n",
    "    min_depth, max_depth = 1, 10\n",
    "    default_depth = 6\n",
    "    # Get the depth from the user \n",
    "    try:\n",
    "        # If either of the following lines failsthen the body of the except statement is run\n",
    "        depth = int(input(\"Enter a depth (from {} to {}): \".format(min_depth,max_depth)))\n",
    "        assert min_depth <= depth <= max_depth\n",
    "    except:\n",
    "        print(\"There was a problem with your input.\", end = \" \") \n",
    "        print(\"Using default depth:{}\".format(default_depth))\n",
    "        depth = default_depth\n",
    "    # Now run the animation with the depth input by the user\n",
    "    draw_sierpinski(depth) \n",
    "    return None"
   ]
  },
  {
   "cell_type": "code",
   "execution_count": 6,
   "metadata": {
    "scrolled": true
   },
   "outputs": [
    {
     "name": "stdout",
     "output_type": "stream",
     "text": [
      "Enter a depth (from 1 to 10): 8\n"
     ]
    }
   ],
   "source": [
    "run_sierpinski()"
   ]
  },
  {
   "cell_type": "markdown",
   "metadata": {},
   "source": [
    "# In the project outline... \n",
    "\n",
    "You are asked to develop the function  `draw_sierpinski` so that \n",
    "the user is also able to change the speed of  the animation. You should also add colours to the triangle drawing (either in the same or a different script). "
   ]
  },
  {
   "cell_type": "markdown",
   "metadata": {},
   "source": [
    "# Bouncing ball\n",
    "\n",
    "One of the simplest animations is that of a bouncing ball. Below is a function which simulates a bouncing ball in a rectangular room. \n",
    "\n",
    "### Note\n",
    "\n",
    "This example is included to allow you to become more conversant with how `pygame` works. You might also want to experiment with this code to gain more knowledge of a typical `pygame` animation. "
   ]
  },
  {
   "cell_type": "code",
   "execution_count": 7,
   "metadata": {},
   "outputs": [],
   "source": [
    "def bouncing_ball(speed_factor=5):\n",
    "    '''\n",
    "    Function simulating simple bouncing ball within a rectangular \n",
    "    room. Speed of ball can be adjusted by entering a speed factor \n",
    "    on the command line (e.g. python bouncing_ball 3 to use speed \n",
    "    factor 3 \n",
    "    '''\n",
    "    \n",
    "    # Randomised x direction \n",
    "    x_direction = random.choice([-1,1])\n",
    "    # Slightly randomised step sizes for x, y directions to vary simulations\n",
    "    x_step, y_step =  x_direction*random.randint(8,10), -random.randint(8,10)\n",
    "    screen_size = (screen_width, screen_height) = (800, 600)\n",
    "    white = (255,255,255)\n",
    "    ball_size = 30\n",
    "    x0, y0 = (screen_width - ball_size)/2, screen_height - ball_size\n",
    "\n",
    "\n",
    "    # For information for user \n",
    "    print(\"The forward horizontal step size is  x_step = {}\".format(x_step))\n",
    "    print(\"The forward vertical step size is    y_step = {}\".format(y_step))\n",
    "\n",
    "    # Used for the pause time in the animation while loop below\n",
    "    frames_per_second = 10 + 10*speed_factor\n",
    "    clock = pygame.time.Clock()\n",
    "\n",
    "    # Set up the animation     \n",
    "    pygame.init()\n",
    "    screen = pygame.display.set_mode(screen_size)\n",
    "    # Put the title and instructions for the animation in the title bar of the animation.\n",
    "    caption = 'Bouncing Ball'\n",
    "    caption += '                              '\n",
    "    caption += '(Keystroke:  \\'Space\\' to start or pause)'\n",
    "    pygame.display.set_caption(caption)\n",
    "    # We use an image file for the ball: must be in present working folder\n",
    "    ball = pygame.image.load(\"intro_ball.gif\")\n",
    "    # We resize the image object 'ball'\n",
    "    ball = pygame.transform.scale(ball, (ball_size, ball_size))\n",
    "    # The rectangle ball_rect is used for displaying the ball where (x0, y0)\n",
    "    # is the top left hand corner of the rectangle (and length of sides given) \n",
    "    ball_rect = pygame.Rect(x0,y0,ball_size,ball_size)\n",
    "\n",
    "    # Ball is motionless to start with \n",
    "    screen.fill(white)\n",
    "    # Overlay the ball image on screen \n",
    "    screen.blit(ball, ball_rect)\n",
    "    # Now re-initialise the display (to show the ball etc.) \n",
    "    pygame.display.flip()\n",
    "\n",
    "    # We keep going for ever in this program (until quit is input - e.g. Ctrl-Q - by user ).\n",
    "    keep_running = True\n",
    "    # Use the following  as switch to move the ball or not using the space bar.\n",
    "    move_ball = False\n",
    "\n",
    "    # Animation loop \n",
    "    while keep_running:\n",
    "        # If a keyboard event happens register it... \n",
    "        for event in pygame.event.get():\n",
    "            if event.type == pygame.QUIT:\n",
    "                keep_running = False\n",
    "            elif event.type == pygame.KEYDOWN and event.key == pygame.K_SPACE:\n",
    "                move_ball = not move_ball\n",
    "                \n",
    "        # Pressing the space bar changes the value of move_ball (see elif above)\n",
    "        # So you can toggle move/not move with the space bar\n",
    "        if move_ball:\n",
    "            # Move the ball a step \n",
    "            ball_rect.x += x_step\n",
    "            ball_rect.y += y_step\n",
    "            # Alternatively use use the following line \n",
    "            # ball_rect = ball_rect.move((x_step,y_step))\n",
    "            # The ball bounces when it hits an edge\n",
    "            if ball_rect.left < 0 or ball_rect.right > screen_width:\n",
    "                x_step = - x_step\n",
    "            if ball_rect.top < 0 or ball_rect.bottom > screen_height:\n",
    "                y_step = - y_step\n",
    "\n",
    "        # Redraw the screen \n",
    "        screen.fill(white)\n",
    "        # Redraw the ball \n",
    "        screen.blit(ball, ball_rect)\n",
    "        # Re-initialise the display t\n",
    "        pygame.display.flip()\n",
    "        # Wait a clock tick until starting next iteration of animation loop\n",
    "        clock.tick(frames_per_second)\n",
    "\n",
    "        \n",
    "    pygame.quit()\n",
    "    return None "
   ]
  },
  {
   "cell_type": "markdown",
   "metadata": {},
   "source": [
    "Now lets run this  function (with an integer speed factor in the interval $[1,10]$ "
   ]
  },
  {
   "cell_type": "code",
   "execution_count": 8,
   "metadata": {},
   "outputs": [
    {
     "name": "stdout",
     "output_type": "stream",
     "text": [
      "The forward horizontal step size is  x_step = 9\n",
      "The forward vertical step size is    y_step = -10\n"
     ]
    }
   ],
   "source": [
    "bouncing_ball(9)"
   ]
  },
  {
   "cell_type": "markdown",
   "metadata": {},
   "source": [
    "**Interactive input.** One could also  give the user/reader the possibility of choosing the speed factor interactively "
   ]
  },
  {
   "cell_type": "code",
   "execution_count": 9,
   "metadata": {},
   "outputs": [],
   "source": [
    "def run_bouncing_ball(): \n",
    "    min_speed_factor, max_speed_factor  = 1, 10\n",
    "    default_speed_factor = 5\n",
    "    # Get the speed factor from the user. Using try...except is a nice way of doing this\n",
    "    try:\n",
    "        # If either of the following lines failsthen the body of the except statement is run\n",
    "        speed_factor = int(input(\"Enter a speed (from {} to {}): \".format(min_speed_factor,max_speed_factor)))\n",
    "        assert min_speed_factor <= speed_factor and speed_factor <= max_speed_factor\n",
    "    except:\n",
    "        print(\"There was a problem with your input.\", end = \" \") \n",
    "        print(\"Using default speed speed factor:{}\".format(default_speed_factor))\n",
    "        speed_factor = default_speed_factor\n",
    "    # Now run the animation with speed factor input by the user\n",
    "    bouncing_ball(speed_factor)\n",
    "    return None"
   ]
  },
  {
   "cell_type": "markdown",
   "metadata": {},
   "source": [
    "Now the user can just run the following cell... "
   ]
  },
  {
   "cell_type": "code",
   "execution_count": 10,
   "metadata": {
    "scrolled": false
   },
   "outputs": [
    {
     "name": "stdout",
     "output_type": "stream",
     "text": [
      "Enter a speed (from 1 to 10): 4\n",
      "The forward horizontal step size is  x_step = -9\n",
      "The forward vertical step size is    y_step = -8\n"
     ]
    }
   ],
   "source": [
    "run_bouncing_ball()"
   ]
  },
  {
   "cell_type": "markdown",
   "metadata": {},
   "source": [
    "**Note.** We could integrate the code of  `run_bouncing_ball` into `bouncing_ball` itself. However there is a reason for not doing this: separating the task of interactive input into the function `run_bouncing_ball` simplifies the structure of our code. (It makes our code more modular with different tasks being separated into different functions.) A similar comment of course applies to the Sierpinsk Triangle example above. "
   ]
  }
 ],
 "metadata": {
  "kernelspec": {
   "display_name": "Python 3",
   "language": "python",
   "name": "python3"
  },
  "language_info": {
   "codemirror_mode": {
    "name": "ipython",
    "version": 3
   },
   "file_extension": ".py",
   "mimetype": "text/x-python",
   "name": "python",
   "nbconvert_exporter": "python",
   "pygments_lexer": "ipython3",
   "version": "3.7.3"
  }
 },
 "nbformat": 4,
 "nbformat_minor": 4
}
